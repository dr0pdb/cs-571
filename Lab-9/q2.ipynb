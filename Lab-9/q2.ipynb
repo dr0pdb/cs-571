{
 "cells": [
  {
   "cell_type": "code",
   "execution_count": 79,
   "metadata": {},
   "outputs": [],
   "source": [
    "import numpy as np\n",
    "import pandas as pd\n",
    "import math\n",
    "from statistics import mean\n",
    "from copy import deepcopy\n",
    "from itertools import chain\n",
    "from collections import Counter\n",
    "from sklearn.model_selection import train_test_split"
   ]
  },
  {
   "cell_type": "code",
   "execution_count": 80,
   "metadata": {},
   "outputs": [],
   "source": [
    "df = pd.read_csv(\"./train.csv\")"
   ]
  },
  {
   "cell_type": "code",
   "execution_count": 81,
   "metadata": {},
   "outputs": [],
   "source": [
    "# drop waste columns\n",
    "df = df.drop(columns = ['PassengerId', 'Name', 'Ticket'])"
   ]
  },
  {
   "cell_type": "code",
   "execution_count": 82,
   "metadata": {},
   "outputs": [],
   "source": [
    "def convert_to_one(str1):\n",
    "    if str1 != 0:\n",
    "        return 1\n",
    "    return 0"
   ]
  },
  {
   "cell_type": "code",
   "execution_count": 83,
   "metadata": {},
   "outputs": [],
   "source": [
    "df['Cabin'] = df['Cabin'].replace(np.nan, 0)\n",
    "df['Cabin'] = df['Cabin'].apply(convert_to_one)"
   ]
  },
  {
   "cell_type": "code",
   "execution_count": 84,
   "metadata": {},
   "outputs": [
    {
     "data": {
      "text/html": [
       "<div>\n",
       "<style scoped>\n",
       "    .dataframe tbody tr th:only-of-type {\n",
       "        vertical-align: middle;\n",
       "    }\n",
       "\n",
       "    .dataframe tbody tr th {\n",
       "        vertical-align: top;\n",
       "    }\n",
       "\n",
       "    .dataframe thead th {\n",
       "        text-align: right;\n",
       "    }\n",
       "</style>\n",
       "<table border=\"1\" class=\"dataframe\">\n",
       "  <thead>\n",
       "    <tr style=\"text-align: right;\">\n",
       "      <th></th>\n",
       "      <th>Survived</th>\n",
       "      <th>Pclass</th>\n",
       "      <th>Sex</th>\n",
       "      <th>Age</th>\n",
       "      <th>SibSp</th>\n",
       "      <th>Parch</th>\n",
       "      <th>Fare</th>\n",
       "      <th>Cabin</th>\n",
       "      <th>Embarked</th>\n",
       "    </tr>\n",
       "  </thead>\n",
       "  <tbody>\n",
       "    <tr>\n",
       "      <th>0</th>\n",
       "      <td>0</td>\n",
       "      <td>3</td>\n",
       "      <td>male</td>\n",
       "      <td>22.0</td>\n",
       "      <td>1</td>\n",
       "      <td>0</td>\n",
       "      <td>7.2500</td>\n",
       "      <td>0</td>\n",
       "      <td>S</td>\n",
       "    </tr>\n",
       "    <tr>\n",
       "      <th>1</th>\n",
       "      <td>1</td>\n",
       "      <td>1</td>\n",
       "      <td>female</td>\n",
       "      <td>38.0</td>\n",
       "      <td>1</td>\n",
       "      <td>0</td>\n",
       "      <td>71.2833</td>\n",
       "      <td>1</td>\n",
       "      <td>C</td>\n",
       "    </tr>\n",
       "    <tr>\n",
       "      <th>2</th>\n",
       "      <td>1</td>\n",
       "      <td>3</td>\n",
       "      <td>female</td>\n",
       "      <td>26.0</td>\n",
       "      <td>0</td>\n",
       "      <td>0</td>\n",
       "      <td>7.9250</td>\n",
       "      <td>0</td>\n",
       "      <td>S</td>\n",
       "    </tr>\n",
       "    <tr>\n",
       "      <th>3</th>\n",
       "      <td>1</td>\n",
       "      <td>1</td>\n",
       "      <td>female</td>\n",
       "      <td>35.0</td>\n",
       "      <td>1</td>\n",
       "      <td>0</td>\n",
       "      <td>53.1000</td>\n",
       "      <td>1</td>\n",
       "      <td>S</td>\n",
       "    </tr>\n",
       "    <tr>\n",
       "      <th>4</th>\n",
       "      <td>0</td>\n",
       "      <td>3</td>\n",
       "      <td>male</td>\n",
       "      <td>35.0</td>\n",
       "      <td>0</td>\n",
       "      <td>0</td>\n",
       "      <td>8.0500</td>\n",
       "      <td>0</td>\n",
       "      <td>S</td>\n",
       "    </tr>\n",
       "  </tbody>\n",
       "</table>\n",
       "</div>"
      ],
      "text/plain": [
       "   Survived  Pclass     Sex   Age  SibSp  Parch     Fare  Cabin Embarked\n",
       "0         0       3    male  22.0      1      0   7.2500      0        S\n",
       "1         1       1  female  38.0      1      0  71.2833      1        C\n",
       "2         1       3  female  26.0      0      0   7.9250      0        S\n",
       "3         1       1  female  35.0      1      0  53.1000      1        S\n",
       "4         0       3    male  35.0      0      0   8.0500      0        S"
      ]
     },
     "execution_count": 84,
     "metadata": {},
     "output_type": "execute_result"
    }
   ],
   "source": [
    "df.head()"
   ]
  },
  {
   "cell_type": "code",
   "execution_count": 85,
   "metadata": {},
   "outputs": [
    {
     "data": {
      "text/plain": [
       "[0, 3, 'male', 22.0, 1, 0, 7.25, 0, 'S']"
      ]
     },
     "execution_count": 85,
     "metadata": {},
     "output_type": "execute_result"
    }
   ],
   "source": [
    "dataset = []\n",
    "\n",
    "for i, row in df.iterrows():\n",
    "    vals = row.values\n",
    "    r = []\n",
    "    for v in vals:\n",
    "        r.append(v)\n",
    "    dataset.append(r)\n",
    "\n",
    "dataset[0]"
   ]
  },
  {
   "cell_type": "code",
   "execution_count": 86,
   "metadata": {},
   "outputs": [],
   "source": [
    "lookup_variable_type = [False, False, False, True, False, False, True, False, False]"
   ]
  },
  {
   "cell_type": "code",
   "execution_count": 87,
   "metadata": {},
   "outputs": [],
   "source": [
    "header = ['', 'Pclass', 'Sex', 'Age', 'SibSp', 'Parch', 'Fare', 'Cabin', 'Embarked']\n",
    "class Question:\n",
    "    def __init__(self, column, value):\n",
    "        self.column = column\n",
    "        self.value = value\n",
    "\n",
    "    def match(self, example):\n",
    "        val = example[self.column]\n",
    "        \n",
    "        if self.column == 7:\n",
    "            return False\n",
    "        \n",
    "        if lookup_variable_type[self.column]:\n",
    "            return val <= self.value\n",
    "        \n",
    "        return self.value == val\n",
    "\n",
    "    def __repr__(self):\n",
    "        \n",
    "        condition = \"contains\"\n",
    "        if lookup_variable_type[self.column]:\n",
    "            condition = \"less than equal to\"\n",
    "            \n",
    "        return \"Does %s %s %s?\" % (\n",
    "            header[self.column], condition, str(self.value))"
   ]
  },
  {
   "cell_type": "code",
   "execution_count": 88,
   "metadata": {},
   "outputs": [],
   "source": [
    "def get_min_class(df):\n",
    "    col_survived = df['Survived']\n",
    "    survived_count = Counter(col_survived)\n",
    "    print(survived_count)\n",
    "    if survived_count[0] < survived_count[1]:\n",
    "        return 0\n",
    "    else:\n",
    "        return 1"
   ]
  },
  {
   "cell_type": "code",
   "execution_count": 89,
   "metadata": {},
   "outputs": [],
   "source": [
    "def split_pos_neg(dataset, pos_class):\n",
    "    pos = []\n",
    "    neg = []\n",
    "    \n",
    "    for d in dataset:\n",
    "        if d[0] == pos_class:\n",
    "            pos.append(d)\n",
    "        else:\n",
    "            neg.append(d)\n",
    "    \n",
    "    return pos, neg"
   ]
  },
  {
   "cell_type": "code",
   "execution_count": 90,
   "metadata": {},
   "outputs": [],
   "source": [
    "def split_grow_prune(pos, neg, ratio=0.7):\n",
    "    indices_pos = list(range(len(pos)))\n",
    "    np.random.shuffle(indices_pos)\n",
    "    split_pos = int(np.floor(ratio * len(pos)))\n",
    "    grow_pos_idx, prune_pos_idx = indices_pos[:split_pos], indices_pos[split_pos:]\n",
    "    \n",
    "    indices_neg = list(range(len(neg)))\n",
    "    np.random.shuffle(indices_neg)\n",
    "    split_neg = int(np.floor(ratio * len(neg)))\n",
    "    grow_neg_idx, prune_neg_idx = indices_neg[:split_neg], indices_neg[split_neg:]\n",
    "    \n",
    "    grow_pos = []\n",
    "    grow_neg = []\n",
    "    prune_pos = []\n",
    "    prune_neg = []\n",
    "    \n",
    "    for i in grow_pos_idx:\n",
    "        grow_pos.append(pos[i])\n",
    "\n",
    "    for i in grow_neg_idx:\n",
    "        grow_neg.append(neg[i])\n",
    "        \n",
    "    for i in prune_pos_idx:\n",
    "        prune_pos.append(pos[i])\n",
    "    \n",
    "    for i in prune_neg_idx:\n",
    "        prune_neg.append(neg[i])\n",
    "        \n",
    "    return grow_pos, grow_neg, prune_pos, prune_neg"
   ]
  },
  {
   "cell_type": "code",
   "execution_count": 91,
   "metadata": {
    "scrolled": true
   },
   "outputs": [
    {
     "name": "stdout",
     "output_type": "stream",
     "text": [
      "Counter({0: 549, 1: 342})\n"
     ]
    }
   ],
   "source": [
    "min_class = get_min_class(df)\n",
    "pos, neg = split_pos_neg(dataset, min_class)\n"
   ]
  },
  {
   "cell_type": "code",
   "execution_count": 92,
   "metadata": {},
   "outputs": [],
   "source": [
    "def get_info_gain(exp, grow_pos, grow_neg):\n",
    "    count_pos = 0\n",
    "    count_neg = 0\n",
    "    \n",
    "    for d in grow_pos:\n",
    "        count_pos += 1\n",
    "        \n",
    "        for c in exp:\n",
    "            if not c.match(d):\n",
    "                count_pos -= 1\n",
    "                break\n",
    "    \n",
    "    for d in grow_neg:\n",
    "        count_neg += 1\n",
    "        \n",
    "        for c in exp:\n",
    "            if not c.match(d):\n",
    "                count_neg -= 1\n",
    "                break\n",
    "    \n",
    "    if count_pos == 0 and count_neg == 0 or count_pos == 0:\n",
    "#         print(\"Zero encountered\")\n",
    "        return -1\n",
    "    return count_pos * (math.log(count_pos/(count_pos + count_neg)) - math.log(len(grow_pos)/(len(grow_pos) + len(grow_neg))))"
   ]
  },
  {
   "cell_type": "code",
   "execution_count": 93,
   "metadata": {},
   "outputs": [],
   "source": [
    "def grow_rule(grow_pos, grow_neg, basic_conditions):\n",
    "    exp = []\n",
    "    \n",
    "    while True:\n",
    "        max_exp_gain = get_info_gain(exp, grow_pos, grow_neg)\n",
    "        cond_to_add = None\n",
    "        \n",
    "        for cond in basic_conditions:\n",
    "            exp.append(cond)\n",
    "            new_exp_info_gain = get_info_gain(exp,grow_pos, grow_neg)\n",
    "            \n",
    "            if new_exp_info_gain > 0 and new_exp_info_gain > max_exp_gain:\n",
    "                max_exp_gain = new_exp_info_gain\n",
    "                cond_to_add = cond\n",
    "            exp.pop()\n",
    "                \n",
    "        if cond_to_add is not None:\n",
    "            exp.append(cond_to_add)\n",
    "            basic_conditions.remove(cond_to_add)\n",
    "        else:\n",
    "            break\n",
    "    \n",
    "    return exp"
   ]
  },
  {
   "cell_type": "code",
   "execution_count": 94,
   "metadata": {},
   "outputs": [],
   "source": [
    "def getScorePrune(rule, prune_pos, prune_neg):\n",
    "    p = 0\n",
    "    n = 0\n",
    "    P = len(prune_pos)\n",
    "    N = len(prune_neg)\n",
    "    \n",
    "    for d in prune_pos:\n",
    "        p += 1\n",
    "        \n",
    "        for c in rule:\n",
    "            if not c.match(d):\n",
    "                p -= 1\n",
    "                break\n",
    "    \n",
    "    for d in prune_neg:\n",
    "        n += 1\n",
    "        \n",
    "        for c in rule:\n",
    "            if not c.match(d):\n",
    "                n -= 1\n",
    "                break\n",
    "                \n",
    "    return (p + N - n) / (P + N)"
   ]
  },
  {
   "cell_type": "code",
   "execution_count": 95,
   "metadata": {},
   "outputs": [],
   "source": [
    "def getAccuracy(rule, prune_pos, prune_neg):\n",
    "    count_wrong_pos = 0\n",
    "    count_wrong_neg = 0\n",
    "    \n",
    "    for d in prune_pos:\n",
    "        for c in rule:\n",
    "            if not c.match(d):\n",
    "                count_wrong_pos += 1\n",
    "                break\n",
    "    \n",
    "    for d in prune_neg:\n",
    "        for c in rule:\n",
    "            if not c.match(d):\n",
    "                count_wrong_neg += 1\n",
    "                break\n",
    "    \n",
    "    return 1 - (count_wrong_neg + count_wrong_pos) / (len(prune_pos) + len(prune_neg)) "
   ]
  },
  {
   "cell_type": "code",
   "execution_count": 96,
   "metadata": {},
   "outputs": [],
   "source": [
    "def getErrorRate(rule, prune_pos, prune_neg):\n",
    "    return 1 - getAccuracy(rule, prune_pos, prune_neg)"
   ]
  },
  {
   "cell_type": "code",
   "execution_count": 97,
   "metadata": {},
   "outputs": [],
   "source": [
    "def custom_deepcopy(rule):\n",
    "    rule_temp = []\n",
    "    \n",
    "    for d in rule:\n",
    "        rule_temp.append(d)\n",
    "    \n",
    "    return rule_temp"
   ]
  },
  {
   "cell_type": "code",
   "execution_count": 98,
   "metadata": {},
   "outputs": [],
   "source": [
    "def prune_rule(rule, prune_pos, prune_neg):\n",
    "    \n",
    "    while True:\n",
    "        if getErrorRate(rule, prune_pos, prune_neg) > 0.5:\n",
    "            break\n",
    "            \n",
    "        ruleCopy = custom_deepcopy(rule)\n",
    "        cur_score = getScorePrune(rule, prune_pos, prune_neg)\n",
    "        cond_to_remove = None\n",
    "        for cond in ruleCopy:\n",
    "            rule.remove(cond)\n",
    "            score = getScorePrune(rule, prune_pos, prune_neg)\n",
    "\n",
    "            if score > cur_score:\n",
    "                cond_to_remove = cond\n",
    "                cur_score = score\n",
    "\n",
    "            rule.append(cond)\n",
    "        \n",
    "        if cond_to_remove is not None:\n",
    "            rule.remove(cond_to_remove)\n",
    "        else:\n",
    "            break\n",
    "        \n",
    "    return rule "
   ]
  },
  {
   "cell_type": "code",
   "execution_count": 99,
   "metadata": {},
   "outputs": [],
   "source": [
    "def get_subset(data, rules):\n",
    "    ans = []\n",
    "    \n",
    "    for d in data:\n",
    "        flag = True\n",
    "        for r in rules:\n",
    "            if not r.match(d):\n",
    "                flag = False\n",
    "                break\n",
    "        \n",
    "        if flag:\n",
    "            ans.append(d)\n",
    "    return ans   "
   ]
  },
  {
   "cell_type": "code",
   "execution_count": 100,
   "metadata": {},
   "outputs": [],
   "source": [
    "def IREP(pos, neg, simple_condtions):\n",
    "    ruleset = []\n",
    "    \n",
    "    while(len(pos)>0):\n",
    "        grow_pos, grow_neg, prune_pos, prune_neg = split_grow_prune(pos,neg)\n",
    "        rule = grow_rule(grow_pos, grow_neg, deepcopy(simple_condtions))\n",
    "        rule = prune_rule(rule, prune_pos, prune_neg)\n",
    "        \n",
    "        if len(rule) == 0:\n",
    "            return ruleset\n",
    "        else:\n",
    "            ruleset.append(rule)\n",
    "            pos_subset = get_subset(pos,rule)\n",
    "            neg_subset = get_subset(neg,rule)\n",
    "            \n",
    "            pos = [x for x in pos if x not in pos_subset]\n",
    "            neg = [x for x in neg if x not in neg_subset]\n",
    "            \n",
    "    return ruleset"
   ]
  },
  {
   "cell_type": "code",
   "execution_count": 101,
   "metadata": {},
   "outputs": [],
   "source": [
    "def accuracy(rule, answer, dataset):\n",
    "    n = 0\n",
    "    c = 0\n",
    "    \n",
    "    for d in dataset:\n",
    "        n += 1\n",
    "        flag = True\n",
    "        for q in rule:\n",
    "            if not q.match(d):\n",
    "                n -= 1\n",
    "                flag = False\n",
    "                break\n",
    "        if flag:\n",
    "            if answer == d[0]:\n",
    "                c += 1\n",
    "    if n != 0: \n",
    "        return c / n \n",
    "    else:\n",
    "        return \"NaN\""
   ]
  },
  {
   "cell_type": "code",
   "execution_count": 102,
   "metadata": {},
   "outputs": [],
   "source": [
    "def laplace(rule, answer, dataset):\n",
    "    n = len(dataset)\n",
    "    c = 0\n",
    "    n = 0\n",
    "    for d in dataset:\n",
    "        n += 1\n",
    "        flag = True\n",
    "        for q in rule:\n",
    "            if not q.match(d):\n",
    "                n -= 1\n",
    "                flag = False\n",
    "                break\n",
    "                \n",
    "        if flag:\n",
    "            if answer == d[0]:\n",
    "                c += 1\n",
    "    \n",
    "    return (c + 1) / (n + 2) "
   ]
  },
  {
   "cell_type": "code",
   "execution_count": 103,
   "metadata": {},
   "outputs": [],
   "source": [
    "def coverage(rule, dataset):\n",
    "    n = len(dataset)\n",
    "    c = 0\n",
    "    \n",
    "    for d in dataset:\n",
    "        c += 1\n",
    "        for q in rule:\n",
    "            if not q.match(d):\n",
    "                c -= 1\n",
    "                break\n",
    "    \n",
    "    return c / n "
   ]
  },
  {
   "cell_type": "code",
   "execution_count": 104,
   "metadata": {},
   "outputs": [],
   "source": [
    "simpleCS = []\n",
    "\n",
    "for i in range(1, len(dataset[0])):\n",
    "    if lookup_variable_type[i]:\n",
    "        #get average\n",
    "        m = mean([row[i] for row in dataset])\n",
    "        simpleCS.append(Question(i, m))\n",
    "    else:\n",
    "        uniqueVals = set([row[i] for row in dataset])\n",
    "        \n",
    "        for u in uniqueVals:\n",
    "            simpleCS.append(Question(i, u))\n",
    "\n",
    "            "
   ]
  },
  {
   "cell_type": "code",
   "execution_count": 105,
   "metadata": {
    "scrolled": true
   },
   "outputs": [
    {
     "data": {
      "text/plain": [
       "[[Does Sex contains female?],\n",
       " [Does Pclass contains 1?],\n",
       " [Does Parch contains 1?, Does SibSp contains 1?],\n",
       " [Does Embarked contains C?, Does Pclass contains 3?],\n",
       " [Does SibSp contains 0?, Does Parch contains 2?],\n",
       " [Does SibSp contains 0?, Does Parch contains 0?],\n",
       " [Does SibSp contains 2?, Does Embarked contains Q?],\n",
       " [Does Parch contains 2?, Does Fare less than equal to 32.204207968574636?],\n",
       " [Does SibSp contains 0?, Does Pclass contains 3?],\n",
       " [Does Pclass contains 2?, Does Embarked contains S?],\n",
       " [Does SibSp contains 1?, Does Embarked contains S?, Does Parch contains 0?]]"
      ]
     },
     "execution_count": 105,
     "metadata": {},
     "output_type": "execute_result"
    }
   ],
   "source": [
    "rules = IREP(pos,neg,simpleCS)\n",
    "rules"
   ]
  },
  {
   "cell_type": "code",
   "execution_count": 106,
   "metadata": {},
   "outputs": [
    {
     "data": {
      "text/plain": [
       "[[[Does Sex contains female?],\n",
       "  1,\n",
       "  0.7420382165605095,\n",
       "  0.740506329113924,\n",
       "  0.35241301907968575],\n",
       " [[Does Pclass contains 1?],\n",
       "  1,\n",
       "  0.6296296296296297,\n",
       "  0.6284403669724771,\n",
       "  0.24242424242424243],\n",
       " [[Does Parch contains 1?, Does SibSp contains 1?],\n",
       "  1,\n",
       "  0.5964912280701754,\n",
       "  0.5932203389830508,\n",
       "  0.06397306397306397],\n",
       " [[Does Embarked contains C?, Does Pclass contains 3?],\n",
       "  1,\n",
       "  0.3787878787878788,\n",
       "  0.38235294117647056,\n",
       "  0.07407407407407407],\n",
       " [[Does SibSp contains 0?, Does Parch contains 2?],\n",
       "  1,\n",
       "  0.7241379310344828,\n",
       "  0.7096774193548387,\n",
       "  0.03254769921436588],\n",
       " [[Does SibSp contains 0?, Does Parch contains 0?],\n",
       "  1,\n",
       "  0.30353817504655495,\n",
       "  0.3042671614100185,\n",
       "  0.6026936026936027],\n",
       " [[Does SibSp contains 2?, Does Embarked contains Q?],\n",
       "  1,\n",
       "  0.6666666666666666,\n",
       "  0.6,\n",
       "  0.003367003367003367],\n",
       " [[Does Parch contains 2?, Does Fare less than equal to 32.204207968574636?],\n",
       "  1,\n",
       "  0.5,\n",
       "  0.5,\n",
       "  0.04489337822671156],\n",
       " [[Does SibSp contains 0?, Does Pclass contains 3?],\n",
       "  1,\n",
       "  0.23646723646723647,\n",
       "  0.23796033994334279,\n",
       "  0.3939393939393939],\n",
       " [[Does Pclass contains 2?, Does Embarked contains S?],\n",
       "  1,\n",
       "  0.4634146341463415,\n",
       "  0.463855421686747,\n",
       "  0.1840628507295174],\n",
       " [[Does SibSp contains 1?, Does Embarked contains S?, Does Parch contains 0?],\n",
       "  1,\n",
       "  0.42857142857142855,\n",
       "  0.43037974683544306,\n",
       "  0.08641975308641975]]"
      ]
     },
     "execution_count": 106,
     "metadata": {},
     "output_type": "execute_result"
    }
   ],
   "source": [
    "answerTable = []\n",
    "for i in range(len(rules)):\n",
    "    row = []\n",
    "    row.append(rules[i])\n",
    "    row.append(min_class)\n",
    "    row.append(accuracy(rules[i], min_class, dataset))\n",
    "    row.append(laplace(rules[i], min_class, dataset))\n",
    "    row.append(coverage(rules[i], dataset))\n",
    "    \n",
    "    answerTable.append(row)\n",
    "\n",
    "answerTable"
   ]
  },
  {
   "cell_type": "code",
   "execution_count": 107,
   "metadata": {},
   "outputs": [
    {
     "data": {
      "text/plain": [
       "[[[Does Sex contains female?],\n",
       "  1,\n",
       "  0.7420382165605095,\n",
       "  0.740506329113924,\n",
       "  0.35241301907968575],\n",
       " [[Does SibSp contains 0?, Does Parch contains 2?],\n",
       "  1,\n",
       "  0.7241379310344828,\n",
       "  0.7096774193548387,\n",
       "  0.03254769921436588],\n",
       " [[Does SibSp contains 2?, Does Embarked contains Q?],\n",
       "  1,\n",
       "  0.6666666666666666,\n",
       "  0.6,\n",
       "  0.003367003367003367],\n",
       " [[Does Pclass contains 1?],\n",
       "  1,\n",
       "  0.6296296296296297,\n",
       "  0.6284403669724771,\n",
       "  0.24242424242424243],\n",
       " [[Does Parch contains 1?, Does SibSp contains 1?],\n",
       "  1,\n",
       "  0.5964912280701754,\n",
       "  0.5932203389830508,\n",
       "  0.06397306397306397],\n",
       " [[Does Parch contains 2?, Does Fare less than equal to 32.204207968574636?],\n",
       "  1,\n",
       "  0.5,\n",
       "  0.5,\n",
       "  0.04489337822671156],\n",
       " [[Does Pclass contains 2?, Does Embarked contains S?],\n",
       "  1,\n",
       "  0.4634146341463415,\n",
       "  0.463855421686747,\n",
       "  0.1840628507295174],\n",
       " [[Does SibSp contains 1?, Does Embarked contains S?, Does Parch contains 0?],\n",
       "  1,\n",
       "  0.42857142857142855,\n",
       "  0.43037974683544306,\n",
       "  0.08641975308641975],\n",
       " [[Does Embarked contains C?, Does Pclass contains 3?],\n",
       "  1,\n",
       "  0.3787878787878788,\n",
       "  0.38235294117647056,\n",
       "  0.07407407407407407],\n",
       " [[Does SibSp contains 0?, Does Parch contains 0?],\n",
       "  1,\n",
       "  0.30353817504655495,\n",
       "  0.3042671614100185,\n",
       "  0.6026936026936027],\n",
       " [[Does SibSp contains 0?, Does Pclass contains 3?],\n",
       "  1,\n",
       "  0.23646723646723647,\n",
       "  0.23796033994334279,\n",
       "  0.3939393939393939]]"
      ]
     },
     "execution_count": 107,
     "metadata": {},
     "output_type": "execute_result"
    }
   ],
   "source": [
    "answerSortedAccuracy = deepcopy(answerTable)\n",
    "answerSortedAccuracy.sort(key = lambda x : x[2], reverse = True)\n",
    "answerSortedAccuracy"
   ]
  },
  {
   "cell_type": "code",
   "execution_count": 108,
   "metadata": {},
   "outputs": [
    {
     "data": {
      "text/plain": [
       "[[[Does Sex contains female?],\n",
       "  1,\n",
       "  0.7420382165605095,\n",
       "  0.740506329113924,\n",
       "  0.35241301907968575],\n",
       " [[Does SibSp contains 0?, Does Parch contains 2?],\n",
       "  1,\n",
       "  0.7241379310344828,\n",
       "  0.7096774193548387,\n",
       "  0.03254769921436588],\n",
       " [[Does Pclass contains 1?],\n",
       "  1,\n",
       "  0.6296296296296297,\n",
       "  0.6284403669724771,\n",
       "  0.24242424242424243],\n",
       " [[Does SibSp contains 2?, Does Embarked contains Q?],\n",
       "  1,\n",
       "  0.6666666666666666,\n",
       "  0.6,\n",
       "  0.003367003367003367],\n",
       " [[Does Parch contains 1?, Does SibSp contains 1?],\n",
       "  1,\n",
       "  0.5964912280701754,\n",
       "  0.5932203389830508,\n",
       "  0.06397306397306397],\n",
       " [[Does Parch contains 2?, Does Fare less than equal to 32.204207968574636?],\n",
       "  1,\n",
       "  0.5,\n",
       "  0.5,\n",
       "  0.04489337822671156],\n",
       " [[Does Pclass contains 2?, Does Embarked contains S?],\n",
       "  1,\n",
       "  0.4634146341463415,\n",
       "  0.463855421686747,\n",
       "  0.1840628507295174],\n",
       " [[Does SibSp contains 1?, Does Embarked contains S?, Does Parch contains 0?],\n",
       "  1,\n",
       "  0.42857142857142855,\n",
       "  0.43037974683544306,\n",
       "  0.08641975308641975],\n",
       " [[Does Embarked contains C?, Does Pclass contains 3?],\n",
       "  1,\n",
       "  0.3787878787878788,\n",
       "  0.38235294117647056,\n",
       "  0.07407407407407407],\n",
       " [[Does SibSp contains 0?, Does Parch contains 0?],\n",
       "  1,\n",
       "  0.30353817504655495,\n",
       "  0.3042671614100185,\n",
       "  0.6026936026936027],\n",
       " [[Does SibSp contains 0?, Does Pclass contains 3?],\n",
       "  1,\n",
       "  0.23646723646723647,\n",
       "  0.23796033994334279,\n",
       "  0.3939393939393939]]"
      ]
     },
     "execution_count": 108,
     "metadata": {},
     "output_type": "execute_result"
    }
   ],
   "source": [
    "answerSortedLaplace = deepcopy(answerTable)\n",
    "answerSortedLaplace.sort(key = lambda x : x[3], reverse = True)\n",
    "answerSortedLaplace"
   ]
  },
  {
   "cell_type": "code",
   "execution_count": 109,
   "metadata": {},
   "outputs": [
    {
     "data": {
      "text/plain": [
       "[[[Does Sex contains female?],\n",
       "  1,\n",
       "  0.7420382165605095,\n",
       "  0.740506329113924,\n",
       "  0.35241301907968575],\n",
       " [[Does SibSp contains 0?, Does Parch contains 2?],\n",
       "  1,\n",
       "  0.7241379310344828,\n",
       "  0.7096774193548387,\n",
       "  0.03254769921436588],\n",
       " [[Does Pclass contains 1?],\n",
       "  1,\n",
       "  0.6296296296296297,\n",
       "  0.6284403669724771,\n",
       "  0.24242424242424243],\n",
       " [[Does SibSp contains 2?, Does Embarked contains Q?],\n",
       "  1,\n",
       "  0.6666666666666666,\n",
       "  0.6,\n",
       "  0.003367003367003367],\n",
       " [[Does Parch contains 1?, Does SibSp contains 1?],\n",
       "  1,\n",
       "  0.5964912280701754,\n",
       "  0.5932203389830508,\n",
       "  0.06397306397306397],\n",
       " [[Does Parch contains 2?, Does Fare less than equal to 32.204207968574636?],\n",
       "  1,\n",
       "  0.5,\n",
       "  0.5,\n",
       "  0.04489337822671156],\n",
       " [[Does Pclass contains 2?, Does Embarked contains S?],\n",
       "  1,\n",
       "  0.4634146341463415,\n",
       "  0.463855421686747,\n",
       "  0.1840628507295174],\n",
       " [[Does SibSp contains 1?, Does Embarked contains S?, Does Parch contains 0?],\n",
       "  1,\n",
       "  0.42857142857142855,\n",
       "  0.43037974683544306,\n",
       "  0.08641975308641975],\n",
       " [[Does Embarked contains C?, Does Pclass contains 3?],\n",
       "  1,\n",
       "  0.3787878787878788,\n",
       "  0.38235294117647056,\n",
       "  0.07407407407407407],\n",
       " [[Does SibSp contains 0?, Does Parch contains 0?],\n",
       "  1,\n",
       "  0.30353817504655495,\n",
       "  0.3042671614100185,\n",
       "  0.6026936026936027],\n",
       " [[Does SibSp contains 0?, Does Pclass contains 3?],\n",
       "  1,\n",
       "  0.23646723646723647,\n",
       "  0.23796033994334279,\n",
       "  0.3939393939393939]]"
      ]
     },
     "execution_count": 109,
     "metadata": {},
     "output_type": "execute_result"
    }
   ],
   "source": [
    "answerSortedCoverage = deepcopy(answerTable)\n",
    "answerSortedCoverage.sort(key = lambda x : x[3], reverse = True)\n",
    "answerSortedCoverage"
   ]
  },
  {
   "cell_type": "code",
   "execution_count": null,
   "metadata": {},
   "outputs": [],
   "source": []
  }
 ],
 "metadata": {
  "kernelspec": {
   "display_name": "Python 3",
   "language": "python",
   "name": "python3"
  },
  "language_info": {
   "codemirror_mode": {
    "name": "ipython",
    "version": 3
   },
   "file_extension": ".py",
   "mimetype": "text/x-python",
   "name": "python",
   "nbconvert_exporter": "python",
   "pygments_lexer": "ipython3",
   "version": "3.7.3"
  }
 },
 "nbformat": 4,
 "nbformat_minor": 2
}
