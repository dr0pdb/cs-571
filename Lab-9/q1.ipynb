{
 "cells": [
  {
   "cell_type": "code",
   "execution_count": 29,
   "metadata": {},
   "outputs": [],
   "source": [
    "import numpy as np\n",
    "import pandas as pd\n",
    "import math\n",
    "from statistics import mean\n",
    "from copy import deepcopy\n",
    "from itertools import chain"
   ]
  },
  {
   "cell_type": "code",
   "execution_count": 53,
   "metadata": {},
   "outputs": [
    {
     "data": {
      "text/html": [
       "<div>\n",
       "<style scoped>\n",
       "    .dataframe tbody tr th:only-of-type {\n",
       "        vertical-align: middle;\n",
       "    }\n",
       "\n",
       "    .dataframe tbody tr th {\n",
       "        vertical-align: top;\n",
       "    }\n",
       "\n",
       "    .dataframe thead th {\n",
       "        text-align: right;\n",
       "    }\n",
       "</style>\n",
       "<table border=\"1\" class=\"dataframe\">\n",
       "  <thead>\n",
       "    <tr style=\"text-align: right;\">\n",
       "      <th></th>\n",
       "      <th>PassengerId</th>\n",
       "      <th>Survived</th>\n",
       "      <th>Pclass</th>\n",
       "      <th>Name</th>\n",
       "      <th>Sex</th>\n",
       "      <th>Age</th>\n",
       "      <th>SibSp</th>\n",
       "      <th>Parch</th>\n",
       "      <th>Ticket</th>\n",
       "      <th>Fare</th>\n",
       "      <th>Cabin</th>\n",
       "      <th>Embarked</th>\n",
       "    </tr>\n",
       "  </thead>\n",
       "  <tbody>\n",
       "    <tr>\n",
       "      <th>0</th>\n",
       "      <td>1</td>\n",
       "      <td>0</td>\n",
       "      <td>3</td>\n",
       "      <td>Braund, Mr. Owen Harris</td>\n",
       "      <td>male</td>\n",
       "      <td>22.0</td>\n",
       "      <td>1</td>\n",
       "      <td>0</td>\n",
       "      <td>A/5 21171</td>\n",
       "      <td>7.2500</td>\n",
       "      <td>NaN</td>\n",
       "      <td>S</td>\n",
       "    </tr>\n",
       "    <tr>\n",
       "      <th>1</th>\n",
       "      <td>2</td>\n",
       "      <td>1</td>\n",
       "      <td>1</td>\n",
       "      <td>Cumings, Mrs. John Bradley (Florence Briggs Th...</td>\n",
       "      <td>female</td>\n",
       "      <td>38.0</td>\n",
       "      <td>1</td>\n",
       "      <td>0</td>\n",
       "      <td>PC 17599</td>\n",
       "      <td>71.2833</td>\n",
       "      <td>C85</td>\n",
       "      <td>C</td>\n",
       "    </tr>\n",
       "    <tr>\n",
       "      <th>2</th>\n",
       "      <td>3</td>\n",
       "      <td>1</td>\n",
       "      <td>3</td>\n",
       "      <td>Heikkinen, Miss. Laina</td>\n",
       "      <td>female</td>\n",
       "      <td>26.0</td>\n",
       "      <td>0</td>\n",
       "      <td>0</td>\n",
       "      <td>STON/O2. 3101282</td>\n",
       "      <td>7.9250</td>\n",
       "      <td>NaN</td>\n",
       "      <td>S</td>\n",
       "    </tr>\n",
       "    <tr>\n",
       "      <th>3</th>\n",
       "      <td>4</td>\n",
       "      <td>1</td>\n",
       "      <td>1</td>\n",
       "      <td>Futrelle, Mrs. Jacques Heath (Lily May Peel)</td>\n",
       "      <td>female</td>\n",
       "      <td>35.0</td>\n",
       "      <td>1</td>\n",
       "      <td>0</td>\n",
       "      <td>113803</td>\n",
       "      <td>53.1000</td>\n",
       "      <td>C123</td>\n",
       "      <td>S</td>\n",
       "    </tr>\n",
       "    <tr>\n",
       "      <th>4</th>\n",
       "      <td>5</td>\n",
       "      <td>0</td>\n",
       "      <td>3</td>\n",
       "      <td>Allen, Mr. William Henry</td>\n",
       "      <td>male</td>\n",
       "      <td>35.0</td>\n",
       "      <td>0</td>\n",
       "      <td>0</td>\n",
       "      <td>373450</td>\n",
       "      <td>8.0500</td>\n",
       "      <td>NaN</td>\n",
       "      <td>S</td>\n",
       "    </tr>\n",
       "  </tbody>\n",
       "</table>\n",
       "</div>"
      ],
      "text/plain": [
       "   PassengerId  Survived  Pclass  \\\n",
       "0            1         0       3   \n",
       "1            2         1       1   \n",
       "2            3         1       3   \n",
       "3            4         1       1   \n",
       "4            5         0       3   \n",
       "\n",
       "                                                Name     Sex   Age  SibSp  \\\n",
       "0                            Braund, Mr. Owen Harris    male  22.0      1   \n",
       "1  Cumings, Mrs. John Bradley (Florence Briggs Th...  female  38.0      1   \n",
       "2                             Heikkinen, Miss. Laina  female  26.0      0   \n",
       "3       Futrelle, Mrs. Jacques Heath (Lily May Peel)  female  35.0      1   \n",
       "4                           Allen, Mr. William Henry    male  35.0      0   \n",
       "\n",
       "   Parch            Ticket     Fare Cabin Embarked  \n",
       "0      0         A/5 21171   7.2500   NaN        S  \n",
       "1      0          PC 17599  71.2833   C85        C  \n",
       "2      0  STON/O2. 3101282   7.9250   NaN        S  \n",
       "3      0            113803  53.1000  C123        S  \n",
       "4      0            373450   8.0500   NaN        S  "
      ]
     },
     "execution_count": 53,
     "metadata": {},
     "output_type": "execute_result"
    }
   ],
   "source": [
    "df = pd.read_csv(\"./train.csv\")\n",
    "df.head()"
   ]
  },
  {
   "cell_type": "code",
   "execution_count": 31,
   "metadata": {},
   "outputs": [],
   "source": [
    "# drop waste columns\n",
    "df = df.drop(columns = ['PassengerId', 'Name', 'Ticket'])"
   ]
  },
  {
   "cell_type": "code",
   "execution_count": 32,
   "metadata": {},
   "outputs": [],
   "source": [
    "def convert_to_one(str1):\n",
    "    if str1 != 0:\n",
    "        return 1\n",
    "    return 0"
   ]
  },
  {
   "cell_type": "code",
   "execution_count": 33,
   "metadata": {},
   "outputs": [],
   "source": [
    "df['Cabin'] = df['Cabin'].replace(np.nan, 0)\n",
    "df['Cabin'] = df['Cabin'].apply(convert_to_one)"
   ]
  },
  {
   "cell_type": "code",
   "execution_count": 34,
   "metadata": {
    "scrolled": true
   },
   "outputs": [
    {
     "data": {
      "text/html": [
       "<div>\n",
       "<style scoped>\n",
       "    .dataframe tbody tr th:only-of-type {\n",
       "        vertical-align: middle;\n",
       "    }\n",
       "\n",
       "    .dataframe tbody tr th {\n",
       "        vertical-align: top;\n",
       "    }\n",
       "\n",
       "    .dataframe thead th {\n",
       "        text-align: right;\n",
       "    }\n",
       "</style>\n",
       "<table border=\"1\" class=\"dataframe\">\n",
       "  <thead>\n",
       "    <tr style=\"text-align: right;\">\n",
       "      <th></th>\n",
       "      <th>Survived</th>\n",
       "      <th>Pclass</th>\n",
       "      <th>Sex</th>\n",
       "      <th>Age</th>\n",
       "      <th>SibSp</th>\n",
       "      <th>Parch</th>\n",
       "      <th>Fare</th>\n",
       "      <th>Cabin</th>\n",
       "      <th>Embarked</th>\n",
       "    </tr>\n",
       "  </thead>\n",
       "  <tbody>\n",
       "    <tr>\n",
       "      <th>0</th>\n",
       "      <td>0</td>\n",
       "      <td>3</td>\n",
       "      <td>male</td>\n",
       "      <td>22.0</td>\n",
       "      <td>1</td>\n",
       "      <td>0</td>\n",
       "      <td>7.2500</td>\n",
       "      <td>0</td>\n",
       "      <td>S</td>\n",
       "    </tr>\n",
       "    <tr>\n",
       "      <th>1</th>\n",
       "      <td>1</td>\n",
       "      <td>1</td>\n",
       "      <td>female</td>\n",
       "      <td>38.0</td>\n",
       "      <td>1</td>\n",
       "      <td>0</td>\n",
       "      <td>71.2833</td>\n",
       "      <td>1</td>\n",
       "      <td>C</td>\n",
       "    </tr>\n",
       "    <tr>\n",
       "      <th>2</th>\n",
       "      <td>1</td>\n",
       "      <td>3</td>\n",
       "      <td>female</td>\n",
       "      <td>26.0</td>\n",
       "      <td>0</td>\n",
       "      <td>0</td>\n",
       "      <td>7.9250</td>\n",
       "      <td>0</td>\n",
       "      <td>S</td>\n",
       "    </tr>\n",
       "    <tr>\n",
       "      <th>3</th>\n",
       "      <td>1</td>\n",
       "      <td>1</td>\n",
       "      <td>female</td>\n",
       "      <td>35.0</td>\n",
       "      <td>1</td>\n",
       "      <td>0</td>\n",
       "      <td>53.1000</td>\n",
       "      <td>1</td>\n",
       "      <td>S</td>\n",
       "    </tr>\n",
       "    <tr>\n",
       "      <th>4</th>\n",
       "      <td>0</td>\n",
       "      <td>3</td>\n",
       "      <td>male</td>\n",
       "      <td>35.0</td>\n",
       "      <td>0</td>\n",
       "      <td>0</td>\n",
       "      <td>8.0500</td>\n",
       "      <td>0</td>\n",
       "      <td>S</td>\n",
       "    </tr>\n",
       "  </tbody>\n",
       "</table>\n",
       "</div>"
      ],
      "text/plain": [
       "   Survived  Pclass     Sex   Age  SibSp  Parch     Fare  Cabin Embarked\n",
       "0         0       3    male  22.0      1      0   7.2500      0        S\n",
       "1         1       1  female  38.0      1      0  71.2833      1        C\n",
       "2         1       3  female  26.0      0      0   7.9250      0        S\n",
       "3         1       1  female  35.0      1      0  53.1000      1        S\n",
       "4         0       3    male  35.0      0      0   8.0500      0        S"
      ]
     },
     "execution_count": 34,
     "metadata": {},
     "output_type": "execute_result"
    }
   ],
   "source": [
    "df.head()"
   ]
  },
  {
   "cell_type": "code",
   "execution_count": 35,
   "metadata": {},
   "outputs": [
    {
     "data": {
      "text/plain": [
       "[0, 3, 'male', 22.0, 1, 0, 7.25, 0, 'S']"
      ]
     },
     "execution_count": 35,
     "metadata": {},
     "output_type": "execute_result"
    }
   ],
   "source": [
    "dataset = []\n",
    "\n",
    "for i, row in df.iterrows():\n",
    "    vals = row.values\n",
    "    r = []\n",
    "    for v in vals:\n",
    "        r.append(v)\n",
    "    dataset.append(r)\n",
    "\n",
    "dataset[0]"
   ]
  },
  {
   "cell_type": "code",
   "execution_count": 36,
   "metadata": {},
   "outputs": [],
   "source": [
    "lookup_variable_type = [False, False, False, True, False, False, True, False, False]"
   ]
  },
  {
   "cell_type": "code",
   "execution_count": 37,
   "metadata": {},
   "outputs": [],
   "source": [
    "header = ['', 'Pclass', 'Sex', 'Age', 'SibSp', 'Parch', 'Fare', 'Cabin', 'Embarked']\n",
    "class Question:\n",
    "    def __init__(self, column, value):\n",
    "        self.column = column\n",
    "        self.value = value\n",
    "\n",
    "    def match(self, example):\n",
    "        val = example[self.column]\n",
    "        \n",
    "        if self.column == 7:\n",
    "            return False\n",
    "        \n",
    "        if lookup_variable_type[self.column]:\n",
    "            return val <= self.value\n",
    "        \n",
    "        return self.value == val\n",
    "\n",
    "    def __repr__(self):\n",
    "        condition = \"contains\"\n",
    "        return \"Does %s %s %s?\" % (\n",
    "            header[self.column], condition, str(self.value))"
   ]
  },
  {
   "cell_type": "code",
   "execution_count": 38,
   "metadata": {},
   "outputs": [],
   "source": [
    "def getSubset(rules, training_data):\n",
    "    ans = []\n",
    "    \n",
    "    for d in training_data:\n",
    "        flag = True\n",
    "        for r in rules:\n",
    "            if not r.match(d):\n",
    "                flag = False\n",
    "                break\n",
    "        \n",
    "        if flag:\n",
    "            ans.append(d)\n",
    "    return ans        "
   ]
  },
  {
   "cell_type": "code",
   "execution_count": 39,
   "metadata": {},
   "outputs": [],
   "source": [
    "def getMostCommonClass(training_data):\n",
    "    class_freq_dict = {}\n",
    "    \n",
    "    for d in training_data:\n",
    "        c = str(d[0])\n",
    "        \n",
    "        if c not in class_freq_dict:\n",
    "            class_freq_dict[c] = 1\n",
    "        else:\n",
    "            class_freq_dict[c] += 1\n",
    "            \n",
    "    if class_freq_dict['0'] > class_freq_dict['1'] :\n",
    "        return 0\n",
    "    else:\n",
    "        return 1"
   ]
  },
  {
   "cell_type": "code",
   "execution_count": 40,
   "metadata": {},
   "outputs": [],
   "source": [
    "def getStatSignificance(expression, training_data):\n",
    "    score = 0\n",
    "    for d in training_data:\n",
    "        score += 1\n",
    "        \n",
    "        for q in expression:\n",
    "            if not q.match(d):\n",
    "                score -= 1\n",
    "                break\n",
    "    \n",
    "    return score"
   ]
  },
  {
   "cell_type": "code",
   "execution_count": 41,
   "metadata": {},
   "outputs": [],
   "source": [
    "def getWorstExp(expressionSet, training_data):\n",
    "    worstExp = []\n",
    "    worstScore = math.inf\n",
    "    \n",
    "    for e in expressionSet:\n",
    "        x = getStatSignificance(e, training_data)\n",
    "        if x < worstScore:\n",
    "            worstExp = e\n",
    "            worstScore = x\n",
    "            \n",
    "    return worstExp"
   ]
  },
  {
   "cell_type": "code",
   "execution_count": 42,
   "metadata": {},
   "outputs": [],
   "source": [
    "def find_best_condition_exp(training_data, simpleCS, threshExp, maxExpressions):\n",
    "    conditional_exp_set = [[]]\n",
    "    best_condition_expression = []\n",
    "    best_condition_expression_score = 0\n",
    "    \n",
    "    while True:\n",
    "        trialCES = []\n",
    "        for x in conditional_exp_set:\n",
    "            x = set(x)\n",
    "            for y in simpleCS:\n",
    "                x.add(y)\n",
    "                trialCES.append(frozenset(deepcopy(x)))\n",
    "                x.remove(y)\n",
    "        \n",
    "#         print(trialCES)\n",
    "        trialCES = set(trialCES)\n",
    "        \n",
    "        \n",
    "        for t in trialCES:\n",
    "            if t in conditional_exp_set:\n",
    "                trialCES.remove(t)\n",
    "        \n",
    "        for expression in trialCES:\n",
    "            score = getStatSignificance(expression, training_data)\n",
    "            if score > best_condition_expression_score:\n",
    "                best_condition_expression_score = score\n",
    "                best_condition_expression = expression\n",
    "        \n",
    "        while len(trialCES) > maxExpressions:\n",
    "            worst = getWorstExp(trialCES, training_data)\n",
    "            trialCES.remove(worst)\n",
    "        \n",
    "        conditional_exp_set = set(trialCES)\n",
    "        \n",
    "        if len(conditional_exp_set) > 0:\n",
    "            break\n",
    "        \n",
    "    return best_condition_expression\n",
    "    "
   ]
  },
  {
   "cell_type": "code",
   "execution_count": 43,
   "metadata": {},
   "outputs": [],
   "source": [
    "def getRuleList(training_data, simpleCS, threshExp, maxExpressions):\n",
    "    rule = []\n",
    "    answers = []\n",
    "    while len(training_data) > 0:\n",
    "        best_condition_exp = find_best_condition_exp(training_data, simpleCS, threshExp, maxExpressions)\n",
    "        \n",
    "        if len(best_condition_exp) == 0:\n",
    "            break\n",
    "#         print(\"x\")\n",
    "        subset_tr = getSubset(best_condition_exp, training_data)\n",
    "        training_data = [x for x in training_data if x not in subset_tr]\n",
    "        \n",
    "        most_common_class = getMostCommonClass(subset_tr)\n",
    "        \n",
    "        rule.append(best_condition_exp)\n",
    "        answers.append(most_common_class)\n",
    "        \n",
    "    return rule, answers"
   ]
  },
  {
   "cell_type": "code",
   "execution_count": 44,
   "metadata": {},
   "outputs": [],
   "source": [
    "def accuracy(rule, answer, dataset):\n",
    "    n = 0\n",
    "    c = 0\n",
    "    \n",
    "    for d in dataset:\n",
    "        n += 1\n",
    "        flag = True\n",
    "        for q in rule:\n",
    "            if not q.match(d):\n",
    "                n -= 1\n",
    "                flag = False\n",
    "                break\n",
    "        if flag:\n",
    "            if answer == d[0]:\n",
    "                c += 1\n",
    "    if n != 0: \n",
    "        return c / n \n",
    "    else:\n",
    "        return \"NaN\""
   ]
  },
  {
   "cell_type": "code",
   "execution_count": 45,
   "metadata": {},
   "outputs": [],
   "source": [
    "def laplace(rule, answer, dataset):\n",
    "    n = len(dataset)\n",
    "    c = 0\n",
    "    n = 0\n",
    "    for d in dataset:\n",
    "        n += 1\n",
    "        flag = True\n",
    "        for q in rule:\n",
    "            if not q.match(d):\n",
    "                n -= 1\n",
    "                flag = False\n",
    "                break\n",
    "                \n",
    "        if flag:\n",
    "            if answer == d[0]:\n",
    "                c += 1\n",
    "    \n",
    "    return (c + 1) / (n + 2) "
   ]
  },
  {
   "cell_type": "code",
   "execution_count": 46,
   "metadata": {},
   "outputs": [],
   "source": [
    "def coverage(rule, dataset):\n",
    "    n = len(dataset)\n",
    "    c = 0\n",
    "    \n",
    "    for d in dataset:\n",
    "        c += 1\n",
    "        for q in rule:\n",
    "            if not q.match(d):\n",
    "                c -= 1\n",
    "                break\n",
    "    \n",
    "    return c / n "
   ]
  },
  {
   "cell_type": "code",
   "execution_count": 47,
   "metadata": {},
   "outputs": [
    {
     "data": {
      "text/plain": [
       "[[Does Fare contains 32.204207968574636?],\n",
       " [Does Pclass contains 1?],\n",
       " [Does Embarked contains S?],\n",
       " [Does Pclass contains 2?]]"
      ]
     },
     "execution_count": 47,
     "metadata": {},
     "output_type": "execute_result"
    }
   ],
   "source": [
    "simpleCS = []\n",
    "\n",
    "for i in range(1, len(dataset[0])):\n",
    "    if lookup_variable_type[i]:\n",
    "        #get average\n",
    "        m = mean([row[i] for row in dataset])\n",
    "        simpleCS.append(Question(i, m))\n",
    "    else:\n",
    "        uniqueVals = set([row[i] for row in dataset])\n",
    "        \n",
    "        for u in uniqueVals:\n",
    "            simpleCS.append(Question(i, u))\n",
    "            \n",
    "rules, answers = getRuleList(dataset, simpleCS, 0, 400)\n",
    "rulesX = [list(r) for r in rules]\n",
    "rulesX"
   ]
  },
  {
   "cell_type": "code",
   "execution_count": 48,
   "metadata": {},
   "outputs": [],
   "source": [
    "answerTable = []\n",
    "for i in range(len(rules)):\n",
    "    row = []\n",
    "    row.append(rulesX[i])\n",
    "    row.append(answers[i])\n",
    "    row.append(accuracy(rulesX[i], answers[i], dataset))\n",
    "    row.append(laplace(rulesX[i], answers[i], dataset))\n",
    "    row.append(coverage(rulesX[i], dataset))\n",
    "    \n",
    "    answerTable.append(row)"
   ]
  },
  {
   "cell_type": "code",
   "execution_count": 49,
   "metadata": {},
   "outputs": [
    {
     "data": {
      "text/plain": [
       "[[[Does Fare contains 32.204207968574636?],\n",
       "  0,\n",
       "  0.6823529411764706,\n",
       "  0.6818181818181818,\n",
       "  0.7631874298540965],\n",
       " [[Does Pclass contains 1?],\n",
       "  1,\n",
       "  0.6296296296296297,\n",
       "  0.6284403669724771,\n",
       "  0.24242424242424243],\n",
       " [[Does Embarked contains S?],\n",
       "  0,\n",
       "  0.6630434782608695,\n",
       "  0.6625386996904025,\n",
       "  0.7227833894500562],\n",
       " [[Does Pclass contains 2?],\n",
       "  1,\n",
       "  0.47282608695652173,\n",
       "  0.4731182795698925,\n",
       "  0.20650953984287318]]"
      ]
     },
     "execution_count": 49,
     "metadata": {},
     "output_type": "execute_result"
    }
   ],
   "source": [
    "answerTable"
   ]
  },
  {
   "cell_type": "code",
   "execution_count": 50,
   "metadata": {},
   "outputs": [
    {
     "data": {
      "text/plain": [
       "[[[Does Fare contains 32.204207968574636?],\n",
       "  0,\n",
       "  0.6823529411764706,\n",
       "  0.6818181818181818,\n",
       "  0.7631874298540965],\n",
       " [[Does Embarked contains S?],\n",
       "  0,\n",
       "  0.6630434782608695,\n",
       "  0.6625386996904025,\n",
       "  0.7227833894500562],\n",
       " [[Does Pclass contains 1?],\n",
       "  1,\n",
       "  0.6296296296296297,\n",
       "  0.6284403669724771,\n",
       "  0.24242424242424243],\n",
       " [[Does Pclass contains 2?],\n",
       "  1,\n",
       "  0.47282608695652173,\n",
       "  0.4731182795698925,\n",
       "  0.20650953984287318]]"
      ]
     },
     "execution_count": 50,
     "metadata": {},
     "output_type": "execute_result"
    }
   ],
   "source": [
    "answerSortedAccuracy = deepcopy(answerTable)\n",
    "answerSortedAccuracy.sort(key = lambda x : x[2], reverse = True)\n",
    "answerSortedAccuracy"
   ]
  },
  {
   "cell_type": "code",
   "execution_count": 51,
   "metadata": {},
   "outputs": [
    {
     "data": {
      "text/plain": [
       "[[[Does Fare contains 32.204207968574636?],\n",
       "  0,\n",
       "  0.6823529411764706,\n",
       "  0.6818181818181818,\n",
       "  0.7631874298540965],\n",
       " [[Does Embarked contains S?],\n",
       "  0,\n",
       "  0.6630434782608695,\n",
       "  0.6625386996904025,\n",
       "  0.7227833894500562],\n",
       " [[Does Pclass contains 1?],\n",
       "  1,\n",
       "  0.6296296296296297,\n",
       "  0.6284403669724771,\n",
       "  0.24242424242424243],\n",
       " [[Does Pclass contains 2?],\n",
       "  1,\n",
       "  0.47282608695652173,\n",
       "  0.4731182795698925,\n",
       "  0.20650953984287318]]"
      ]
     },
     "execution_count": 51,
     "metadata": {},
     "output_type": "execute_result"
    }
   ],
   "source": [
    "answerSortedLaplace = deepcopy(answerTable)\n",
    "answerSortedLaplace.sort(key = lambda x : x[3], reverse = True)\n",
    "answerSortedLaplace"
   ]
  },
  {
   "cell_type": "code",
   "execution_count": 52,
   "metadata": {},
   "outputs": [
    {
     "data": {
      "text/plain": [
       "[[[Does Fare contains 32.204207968574636?],\n",
       "  0,\n",
       "  0.6823529411764706,\n",
       "  0.6818181818181818,\n",
       "  0.7631874298540965],\n",
       " [[Does Embarked contains S?],\n",
       "  0,\n",
       "  0.6630434782608695,\n",
       "  0.6625386996904025,\n",
       "  0.7227833894500562],\n",
       " [[Does Pclass contains 1?],\n",
       "  1,\n",
       "  0.6296296296296297,\n",
       "  0.6284403669724771,\n",
       "  0.24242424242424243],\n",
       " [[Does Pclass contains 2?],\n",
       "  1,\n",
       "  0.47282608695652173,\n",
       "  0.4731182795698925,\n",
       "  0.20650953984287318]]"
      ]
     },
     "execution_count": 52,
     "metadata": {},
     "output_type": "execute_result"
    }
   ],
   "source": [
    "answerSortedCoverage = deepcopy(answerTable)\n",
    "answerSortedCoverage.sort(key = lambda x : x[3], reverse = True)\n",
    "answerSortedCoverage"
   ]
  },
  {
   "cell_type": "code",
   "execution_count": null,
   "metadata": {},
   "outputs": [],
   "source": []
  }
 ],
 "metadata": {
  "kernelspec": {
   "display_name": "Python 3",
   "language": "python",
   "name": "python3"
  },
  "language_info": {
   "codemirror_mode": {
    "name": "ipython",
    "version": 3
   },
   "file_extension": ".py",
   "mimetype": "text/x-python",
   "name": "python",
   "nbconvert_exporter": "python",
   "pygments_lexer": "ipython3",
   "version": "3.7.3"
  }
 },
 "nbformat": 4,
 "nbformat_minor": 2
}
